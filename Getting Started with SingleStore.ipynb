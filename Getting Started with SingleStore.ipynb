{
  "cells": [
    {
      "id": "8bb1a5e8",
      "cell_type": "markdown",
      "metadata": {
        "execution": {}
      },
      "source": "\u003cdiv id=\"singlestore-header\" style=\"display: flex; background-color: rgba(235, 249, 245, 0.25); padding: 5px;\"\u003e\n    \u003cdiv id=\"icon-image\" style=\"width: 90px; height: 90px;\"\u003e\n        \u003cimg width=\"100%\" height=\"100%\" src=\"https://raw.githubusercontent.com/singlestore-labs/spaces-notebooks/master/common/images/header-icons/database.png\" /\u003e\n    \u003c/div\u003e\n    \u003cdiv id=\"text\" style=\"padding: 5px; margin-left: 10px;\"\u003e\n        \u003cdiv id=\"badge\" style=\"display: inline-block; background-color: rgba(0, 0, 0, 0.15); border-radius: 4px; padding: 4px 8px; align-items: center; margin-top: 6px; margin-bottom: -2px; font-size: 80%\"\u003eSingleStore Notebooks\u003c/div\u003e\n        \u003ch1 style=\"font-weight: 500; margin: 8px 0 0 4px;\"\u003eGetting Started with SingleStore\u003c/h1\u003e\n    \u003c/div\u003e\n\u003c/div\u003e",
      "attachments": {}
    },
    {
      "id": "84c5fe68",
      "cell_type": "markdown",
      "metadata": {
        "execution": {}
      },
      "source": "\u003cdiv class=\"alert alert-block alert-warning\"\u003e\n    \u003cb class=\"fa fa-solid fa-exclamation-circle\"\u003e\u003c/b\u003e\n    \u003cdiv\u003e\n        \u003cp\u003e\u003cb\u003eNote\u003c/b\u003e\u003c/p\u003e\n        \u003cp\u003eThis notebook can be run on a Free Starter Workspace. To create a Free Starter Workspace navigate to \u003ctt\u003eStart\u003c/tt\u003e using the left nav. You can also use your existing Standard or Premium workspace with this Notebook.\u003c/p\u003e\n    \u003c/div\u003e\n\u003c/div\u003e",
      "attachments": {}
    },
    {
      "id": "cc9e68a6",
      "cell_type": "markdown",
      "metadata": {
        "execution": {}
      },
      "source": "This Jupyter notebook provides a comprehensive overview and test drive of SingleStore's multi-model capabilities, showcasing how to efficiently manage and query diverse data types within a single database platform.\n\nThe notebook starts with a simple \"Getting Started\" example, guiding users through various standard SQL queries to interact with the database. It then progressively demonstrates how to add and query different data models, including vectors for machine learning, full-text search for unstructured data, JSON for hierarchical data, geospatial data for location-based queries, and time series data for temporal analysis. This hands-on approach offers an accessible way for users to explore SingleStore's versatility and powerful multi-model functionality.",
      "attachments": {}
    },
    {
      "id": "4de61cfe",
      "cell_type": "markdown",
      "metadata": {
        "execution": {}
      },
      "source": "# Simple \"Getting Started\" example\n\nThis code checks whether the current database environment is using a \"shared tier\" and then conditionally drops and creates a database based on the result.",
      "attachments": {}
    },
    {
      "id": "2540a7db",
      "cell_type": "code",
      "metadata": {
        "execution": {},
        "language": "python"
      },
      "source": "shared_tier_check = %sql SHOW VARIABLES LIKE \"is_shared_tier\"\nif not shared_tier_check or shared_tier_check[0][1] == \"OFF\":\n    %sql DROP DATABASE IF EXISTS multi_model;\n    %sql CREATE DATABASE IF NOT EXISTS multi_model;",
      "outputs": [],
      "execution_count": 1
    },
    {
      "id": "538cfe6c",
      "cell_type": "markdown",
      "metadata": {
        "execution": {}
      },
      "source": "\u003cdiv class=\"alert alert-block alert-warning\"\u003e\n    \u003cb class=\"fa fa-solid fa-exclamation-circle\"\u003e\u003c/b\u003e\n    \u003cdiv\u003e\n        \u003cp\u003e\u003cb\u003eAction Required\u003c/b\u003e\u003c/p\u003e\n        \u003cp\u003eSelect the database from the drop-down menu at the top of this notebook.\u003c/p\u003e\n    \u003c/div\u003e\n\u003c/div\u003e",
      "attachments": {}
    },
    {
      "id": "cdd86f23",
      "cell_type": "markdown",
      "metadata": {
        "execution": {}
      },
      "source": "# Various standard SQL queries\n\n## Create some simple tables\n\nThis setup establishes a basic relational structure to store customer information and their corresponding orders.",
      "attachments": {}
    },
    {
      "id": "6e20a7c4",
      "cell_type": "code",
      "metadata": {
        "execution": {},
        "language": "python"
      },
      "source": "%%sql\nDROP TABLE IF EXISTS customers;\nDROP TABLE IF EXISTS orders;\n\nCREATE TABLE IF NOT EXISTS customers /* Creating table for sample data. */(\n    customer_id INT PRIMARY KEY,\n    customer_name VARCHAR(50),\n    country VARCHAR(50)\n);\n\nCREATE TABLE IF NOT EXISTS orders /* Creating table for sample data. */(\n    order_id INT PRIMARY KEY,\n    customer_id INT,\n    amount DECIMAL(10, 2),\n    product VARCHAR(50)\n);",
      "outputs": [],
      "execution_count": 2
    },
    {
      "id": "a71561fb",
      "cell_type": "markdown",
      "metadata": {
        "execution": {}
      },
      "source": "## Insert some data",
      "attachments": {}
    },
    {
      "id": "e7c7b621",
      "cell_type": "code",
      "metadata": {
        "execution": {},
        "language": "python"
      },
      "source": "%%sql\nINSERT INTO customers (customer_id, customer_name, country) VALUES\n(1, \"John Doe\", \"Canada\"),\n(2, \"Jane Smith\", \"Canada\"),\n(3, \"Sam Brown\", \"Canada\"),\n(4, \"Lisa White\", \"Canada\"),\n(5, \"Mark Black\", \"Canada\");\n\nINSERT INTO orders (order_id, customer_id, amount, product) VALUES\n(101, 1, 150.00, \"Book\"),\n(102, 2, 200.00, \"Pen\"),\n(103, 3, 50.00, \"Notebook\"),\n(104, 1, 300.00, \"Laptop\"),\n(105, 4, 250.00, \"Tablet\");",
      "outputs": [],
      "execution_count": 3
    },
    {
      "id": "2dfcbabc",
      "cell_type": "markdown",
      "metadata": {
        "execution": {}
      },
      "source": "## Sum of amounts",
      "attachments": {}
    },
    {
      "id": "dc7eee97",
      "cell_type": "code",
      "metadata": {
        "execution": {},
        "language": "python"
      },
      "source": "%%sql\nSELECT\n    SUM(amount) AS total_sales\nFROM\n    orders;",
      "outputs": [],
      "execution_count": 4
    },
    {
      "id": "4fe579a5",
      "cell_type": "markdown",
      "metadata": {
        "execution": {}
      },
      "source": "## Minimum amount",
      "attachments": {}
    },
    {
      "id": "3cc46257",
      "cell_type": "code",
      "metadata": {
        "execution": {},
        "language": "python"
      },
      "source": "%%sql\nSELECT\n    MIN(amount) AS min_order_amount\nFROM\n    orders;",
      "outputs": [],
      "execution_count": 5
    },
    {
      "id": "7d34e9f8",
      "cell_type": "markdown",
      "metadata": {
        "execution": {}
      },
      "source": "## Maximum amount",
      "attachments": {}
    },
    {
      "id": "64867b2c",
      "cell_type": "code",
      "metadata": {
        "execution": {},
        "language": "python"
      },
      "source": "%%sql\nSELECT\n    MAX(amount) AS max_order_amount\nFROM\n    orders;",
      "outputs": [],
      "execution_count": 6
    },
    {
      "id": "0c90d396",
      "cell_type": "markdown",
      "metadata": {
        "execution": {}
      },
      "source": "## Average amount",
      "attachments": {}
    },
    {
      "id": "f69edd06",
      "cell_type": "code",
      "metadata": {
        "execution": {},
        "language": "python"
      },
      "source": "%%sql\nSELECT\n    ROUND(AVG(amount), 2) AS avg_order_amount\nFROM\n    orders;",
      "outputs": [],
      "execution_count": 7
    },
    {
      "id": "f3790e0b",
      "cell_type": "markdown",
      "metadata": {
        "execution": {}
      },
      "source": "## Count the number of orders",
      "attachments": {}
    },
    {
      "id": "e3b617d5",
      "cell_type": "code",
      "metadata": {
        "execution": {},
        "language": "python"
      },
      "source": "%%sql\nSELECT\n    COUNT(*) AS number_of_orders\nFROM\n    orders;",
      "outputs": [],
      "execution_count": 8
    },
    {
      "id": "41b93287",
      "cell_type": "markdown",
      "metadata": {
        "execution": {}
      },
      "source": "## Join customers and orders tables",
      "attachments": {}
    },
    {
      "id": "f7b794ca",
      "cell_type": "code",
      "metadata": {
        "execution": {},
        "language": "python"
      },
      "source": "%%sql\nSELECT\n    customers.customer_name,\n    orders.order_id,\n    orders.amount\nFROM\n    customers, orders\nWHERE\n    customers.customer_id = orders.customer_id\nORDER BY\n    amount ASC;",
      "outputs": [],
      "execution_count": 9
    },
    {
      "id": "f1702c95",
      "cell_type": "markdown",
      "metadata": {
        "execution": {}
      },
      "source": "## Group by customer and calculate total amount spent",
      "attachments": {}
    },
    {
      "id": "459f9450",
      "cell_type": "code",
      "metadata": {
        "execution": {},
        "language": "python"
      },
      "source": "%%sql\nSELECT\n    customers.customer_name,\n    SUM(orders.amount) AS total_spent\nFROM\n    customers, orders\nWHERE\n    customers.customer_id = orders.customer_id\nGROUP BY\n    customers.customer_name\nORDER BY\n    total_spent DESC;",
      "outputs": [],
      "execution_count": 10
    },
    {
      "id": "a4176781",
      "cell_type": "markdown",
      "metadata": {
        "execution": {}
      },
      "source": "# Add Vectors\n\n## Add a 3-dimensional vector to the orders table",
      "attachments": {}
    },
    {
      "id": "f6b958e0",
      "cell_type": "code",
      "metadata": {
        "execution": {},
        "language": "python"
      },
      "source": "%%sql\nALTER TABLE orders ADD COLUMN dimensions VECTOR(3);",
      "outputs": [],
      "execution_count": 11
    },
    {
      "id": "a0ad0c75",
      "cell_type": "markdown",
      "metadata": {
        "execution": {}
      },
      "source": "## Add some vector data\n\n### 3 dimensions represent Length (L), Width (W) and Height (H) in cm",
      "attachments": {}
    },
    {
      "id": "ddb5c5ca",
      "cell_type": "code",
      "metadata": {
        "execution": {},
        "language": "python"
      },
      "source": "%%sql\nUPDATE orders SET dimensions = '[8.5, 5.5, 1.0]' WHERE order_id = 101;\nUPDATE orders SET dimensions = '[0.5, 0.5, 14.0]' WHERE order_id = 102;\nUPDATE orders SET dimensions = '[21.0, 29.7, 0.5]' WHERE order_id = 103;\nUPDATE orders SET dimensions = '[32.0, 22.0, 2.0]' WHERE order_id = 104;\nUPDATE orders SET dimensions = '[24.0, 16.0, 0.7]' WHERE order_id = 105;",
      "outputs": [],
      "execution_count": 12
    },
    {
      "id": "d082d79a",
      "cell_type": "markdown",
      "metadata": {
        "execution": {}
      },
      "source": "## Show the vectors",
      "attachments": {}
    },
    {
      "id": "79a7b7d2",
      "cell_type": "code",
      "metadata": {
        "execution": {},
        "language": "python"
      },
      "source": "%%sql\nSET vector_type_project_format = JSON;\n\nSELECT\n    *\nFROM\n    orders;",
      "outputs": [],
      "execution_count": 13
    },
    {
      "id": "7230ca67",
      "cell_type": "markdown",
      "metadata": {
        "execution": {}
      },
      "source": "## Select orders using \u003c*\u003e which is Dot Product\n\nThe dot product is a way of multiplying two vectors to get a single number (a scalar).\n\nIn simple terms, the dot product provides a way to combine two sets of numbers into a single value that reflects how much the vectors \"point\" in the same direction.",
      "attachments": {}
    },
    {
      "id": "0e0e71e3",
      "cell_type": "code",
      "metadata": {
        "execution": {},
        "language": "python"
      },
      "source": "%%sql\nSET vector_type_project_format = JSON;\n\nSELECT\n    *,\n    ROUND((dimensions \u003c*\u003e '[32.0, 22.0, 2.0]'), 2) AS score\n--  ROUND(DOT_PRODUCT(dimensions, '[32.0, 22.0, 2.0]'), 2) AS score\nFROM\n    orders\nORDER BY\n    score DESC;",
      "outputs": [],
      "execution_count": 14
    },
    {
      "id": "89c6d75b",
      "cell_type": "markdown",
      "metadata": {
        "execution": {}
      },
      "source": "## Select orders using \u003c-\u003e which is Euclidean Distance\n\nEuclidean distance is a way to measure how far apart two points are in space.\n\nIn simple terms, Euclidean distance provides a straight-line measurement of how far one point is from another, like using a ruler to measure the distance between two points on a map.",
      "attachments": {}
    },
    {
      "id": "bf3d573b",
      "cell_type": "code",
      "metadata": {
        "execution": {},
        "language": "python"
      },
      "source": "%%sql\nSET vector_type_project_format = JSON;\n\nSELECT\n    *,\n    ROUND((dimensions \u003c-\u003e '[32.0, 22.0, 2.0]'), 2) AS score\n--  ROUND(EUCLIDEAN_DISTANCE(dimensions, '[32.0, 22.0, 2.0]'), 2) AS score\nFROM\n    orders\nORDER BY\n    score ASC;",
      "outputs": [],
      "execution_count": 15
    },
    {
      "id": "42ee6179",
      "cell_type": "markdown",
      "metadata": {
        "execution": {}
      },
      "source": "# Add Full-Text\n\n## Add a description column to the orders table",
      "attachments": {}
    },
    {
      "id": "213a78e8",
      "cell_type": "code",
      "metadata": {
        "execution": {},
        "language": "python"
      },
      "source": "%%sql\nALTER TABLE orders ADD COLUMN description VARCHAR(255);",
      "outputs": [],
      "execution_count": 16
    },
    {
      "id": "48410a03",
      "cell_type": "markdown",
      "metadata": {
        "execution": {}
      },
      "source": "## Update orders table with descriptions",
      "attachments": {}
    },
    {
      "id": "48b313aa",
      "cell_type": "code",
      "metadata": {
        "execution": {},
        "language": "python"
      },
      "source": "%%sql\nUPDATE orders\nSET description = CASE\n    WHEN product = \"Book\" THEN \"A high-quality book that offers insightful content and engaging narratives.\"\n    WHEN product = \"Pen\" THEN \"A smooth-writing pen designed for comfort and precision.\"\n    WHEN product = \"Notebook\" THEN \"A versatile notebook perfect for notes, sketches, and ideas.\"\n    WHEN product = \"Laptop\" THEN \"A powerful laptop with high performance and sleek design for all your computing needs.\"\n    WHEN product = \"Tablet\" THEN \"A compact tablet with a vibrant display and versatile functionality.\"\n    ELSE \"A product with excellent features and quality.\"\nEND;",
      "outputs": [],
      "execution_count": 17
    },
    {
      "id": "b81cf059",
      "cell_type": "markdown",
      "metadata": {
        "execution": {}
      },
      "source": "## Show the descriptions",
      "attachments": {}
    },
    {
      "id": "5f8ff611",
      "cell_type": "code",
      "metadata": {
        "execution": {},
        "language": "python"
      },
      "source": "%%sql\nSELECT\n    *\nFROM\n    orders;",
      "outputs": [],
      "execution_count": 18
    },
    {
      "id": "1396f5e4",
      "cell_type": "markdown",
      "metadata": {
        "execution": {}
      },
      "source": "## Add a full-text index to the orders table",
      "attachments": {}
    },
    {
      "id": "3d806b06",
      "cell_type": "code",
      "metadata": {
        "execution": {},
        "language": "python"
      },
      "source": "%%sql\nALTER TABLE orders ADD FULLTEXT USING VERSION 2 orders_ft_index (product, description);\nOPTIMIZE TABLE orders FLUSH;",
      "outputs": [],
      "execution_count": 19
    },
    {
      "id": "0c46797b",
      "cell_type": "markdown",
      "metadata": {
        "execution": {}
      },
      "source": "## Search for a match on \"vibrant\" in the description part",
      "attachments": {}
    },
    {
      "id": "e5d55bde",
      "cell_type": "code",
      "metadata": {
        "execution": {},
        "language": "python"
      },
      "source": "%%sql\nSELECT\n    *\nFROM\n    orders\nWHERE\n    MATCH (TABLE orders) AGAINST (\"description:vibrant\");",
      "outputs": [],
      "execution_count": 20
    },
    {
      "id": "1a865df4",
      "cell_type": "markdown",
      "metadata": {
        "execution": {}
      },
      "source": "## Use various operators to show flexibility\n\n### + (must appear), * (multiple wildcard), ? (single wildcard)",
      "attachments": {}
    },
    {
      "id": "c1ac7e50",
      "cell_type": "code",
      "metadata": {
        "execution": {},
        "language": "python"
      },
      "source": "%%sql\nSELECT\n    product\nFROM\n    orders\nWHERE\n    MATCH (TABLE orders) AGAINST (\"product:(+oo?) OR description:versa*\");",
      "outputs": [],
      "execution_count": 21
    },
    {
      "id": "890c2ee0",
      "cell_type": "markdown",
      "metadata": {
        "execution": {}
      },
      "source": "# Add JSON\n\n## Add a JSON column to the orders table",
      "attachments": {}
    },
    {
      "id": "a0ee822e",
      "cell_type": "code",
      "metadata": {
        "execution": {},
        "language": "python"
      },
      "source": "%%sql\nALTER TABLE orders ADD COLUMN additional_details JSON NOT NULL;",
      "outputs": [],
      "execution_count": 22
    },
    {
      "id": "f758983e",
      "cell_type": "markdown",
      "metadata": {
        "execution": {}
      },
      "source": "## Update orders table with additional details in JSON format",
      "attachments": {}
    },
    {
      "id": "dcde1541",
      "cell_type": "code",
      "metadata": {
        "execution": {},
        "language": "python"
      },
      "source": "%%sql\nUPDATE orders\nSET additional_details = CASE\n    WHEN order_id = 101 THEN '{\n        \"invoice_number\": \"INV1001\",\n        \"order_status\": \"Delivered\",\n        \"shipping_address\": {\n            \"street\": \"456 Elm St\",\n            \"city\": \"Toronto\",\n            \"state\": \"ON\",\n        \"postal_code\": \"M5A 1A1\",\n        \"country\": \"Canada\"\n        },\n        \"payment_method\": \"Credit Card\",\n        \"discounts_applied\": [{\n            \"discount_code\": \"WELCOME10\",\n            \"amount\": 10.00\n        }],\n        \"order_date\": \"2024-07-01\",\n        \"estimated_delivery_date\": \"2024-07-05\",\n        \"tracking_number\": \"TRACK1001\",\n        \"customer_notes\": \"Leave at the front desk.\"\n    }'\n    WHEN order_id = 102 THEN '{\n        \"invoice_number\": \"INV1002\",\n        \"order_status\": \"Pending\",\n        \"shipping_address\": {\n            \"street\": \"789 Oak St\",\n            \"city\": \"Vancouver\",\n            \"state\": \"BC\",\n            \"postal_code\": \"V5K 1A1\",\n            \"country\": \"Canada\"\n        },\n        \"payment_method\": \"PayPal\",\n        \"discounts_applied\": [{\n            \"discount_code\": \"SPRING20\",\n            \"amount\": 20.00\n        }],\n        \"order_date\": \"2024-07-02\",\n        \"estimated_delivery_date\": \"2024-07-06\",\n        \"tracking_number\": \"TRACK1002\",\n        \"customer_notes\": \"Contact me before delivery.\"\n    }'\n    WHEN order_id = 103 THEN '{\n        \"invoice_number\": \"INV1003\",\n        \"order_status\": \"Shipped\",\n        \"shipping_address\": {\n            \"street\": \"321 Pine St\",\n            \"city\": \"Montreal\",\n            \"state\": \"QC\",\n            \"postal_code\": \"H2X 1Y4\",\n            \"country\": \"Canada\"\n        },\n        \"payment_method\": \"Credit Card\",\n        \"discounts_applied\": [{\n            \"discount_code\": \"SAVE15\",\n            \"amount\": 15.00\n        }],\n        \"order_date\": \"2024-07-03\",\n        \"estimated_delivery_date\": \"2024-07-07\",\n        \"tracking_number\": \"TRACK1003\",\n        \"customer_notes\": \"Deliver after 5 PM.\"\n    }'\n    WHEN order_id = 104 THEN '{\n        \"invoice_number\": \"INV1004\",\n        \"order_status\": \"Shipped\",\n        \"shipping_address\": {\n            \"street\": \"654 Maple St\",\n            \"city\": \"Calgary\",\n            \"state\": \"AB\",\n            \"postal_code\": \"T2P 1N4\",\n            \"country\": \"Canada\"\n        },\n        \"payment_method\": \"Credit Card\",\n        \"discounts_applied\": [{\n            \"discount_code\": \"NEWYEAR25\",\n            \"amount\": 25.00\n        }],\n        \"order_date\": \"2024-07-01\",\n        \"estimated_delivery_date\": \"2024-07-08\",\n        \"tracking_number\": \"TRACK1004\",\n        \"customer_notes\": \"Leave package at the back door.\"\n    }'\n    WHEN order_id = 105 THEN '{\n        \"invoice_number\": \"INV1005\",\n        \"order_status\": \"Delivered\",\n        \"shipping_address\": {\n            \"street\": \"987 Birch St\",\n            \"city\": \"Ottawa\",\n            \"state\": \"ON\",\n            \"postal_code\": \"K1A 0A1\",\n            \"country\": \"Canada\"\n        },\n        \"payment_method\": \"PayPal\",\n        \"discounts_applied\": [{\n            \"discount_code\": \"HOLIDAY30\",\n            \"amount\": 30.00\n        }],\n        \"order_date\": \"2024-07-03\",\n        \"estimated_delivery_date\": \"2024-07-09\",\n        \"tracking_number\": \"TRACK1005\",\n        \"customer_notes\": \"Please ring the doorbell.\"\n    }'\n    ELSE '{}'\nEND;",
      "outputs": [],
      "execution_count": 23
    },
    {
      "id": "ceaced03",
      "cell_type": "markdown",
      "metadata": {
        "execution": {}
      },
      "source": "## Extract specific JSON fields",
      "attachments": {}
    },
    {
      "id": "cd0ad93b",
      "cell_type": "code",
      "metadata": {
        "execution": {},
        "language": "python"
      },
      "source": "%%sql\nSELECT\n    order_id,\n    additional_details::invoice_number AS invoice_number,\n    additional_details::order_status AS order_status\nFROM\n    orders\nORDER BY\n    order_id;",
      "outputs": [],
      "execution_count": 24
    },
    {
      "id": "b0acad1a",
      "cell_type": "markdown",
      "metadata": {
        "execution": {}
      },
      "source": "## Find orders that have been \"Delivered\"",
      "attachments": {}
    },
    {
      "id": "2b82f711",
      "cell_type": "code",
      "metadata": {
        "execution": {},
        "language": "python"
      },
      "source": "%%sql\nSELECT\n    order_id,\n    additional_details::invoice_number AS invoice_number\nFROM\n    orders\nWHERE\n    additional_details::order_status = '\"Delivered\"'\nORDER BY\n    order_id;",
      "outputs": [],
      "execution_count": 25
    },
    {
      "id": "c60f469a",
      "cell_type": "markdown",
      "metadata": {
        "execution": {}
      },
      "source": "## Aggregate data based on JSON fields",
      "attachments": {}
    },
    {
      "id": "dfdaf99e",
      "cell_type": "code",
      "metadata": {
        "execution": {},
        "language": "python"
      },
      "source": "%%sql\nSELECT\n    additional_details::order_status AS order_status,\n    COUNT(*) AS order_count\nFROM\n    orders\nGROUP BY\n    order_status;",
      "outputs": [],
      "execution_count": 26
    },
    {
      "id": "ed5e7f6f",
      "cell_type": "markdown",
      "metadata": {
        "execution": {}
      },
      "source": "# Add Geospatial\n\n## Insert 2 more customers into customers table",
      "attachments": {}
    },
    {
      "id": "6b2cc109",
      "cell_type": "code",
      "metadata": {
        "execution": {},
        "language": "python"
      },
      "source": "%%sql\nINSERT INTO customers (customer_id, customer_name, country) VALUES\n(6, \"Emily Davis\", \"Canada\"),\n(7, \"Michael Johnson\", \"Canada\");",
      "outputs": [],
      "execution_count": 27
    },
    {
      "id": "023e589e",
      "cell_type": "markdown",
      "metadata": {
        "execution": {}
      },
      "source": "## Create neighborhoods table for geospatial data",
      "attachments": {}
    },
    {
      "id": "c86427ab",
      "cell_type": "code",
      "metadata": {
        "execution": {},
        "language": "python"
      },
      "source": "%%sql\nDROP TABLE IF EXISTS neighborhoods;\n\nCREATE TABLE IF NOT EXISTS neighborhoods /* Creating table for sample data. */(\n    id INT UNSIGNED NOT NULL,\n    name VARCHAR(64) NOT NULL,\n    population INT UNSIGNED NOT NULL,\n    shape TEXT NOT NULL,\n    centroid GEOGRAPHYPOINT NOT NULL,\n    sort key (name),\n    shard key (id)\n);",
      "outputs": [],
      "execution_count": 28
    },
    {
      "id": "d3e71aac",
      "cell_type": "markdown",
      "metadata": {
        "execution": {}
      },
      "source": "## Add some city data to the neighborhoods table",
      "attachments": {}
    },
    {
      "id": "9b43cc6c",
      "cell_type": "code",
      "metadata": {
        "execution": {},
        "language": "python"
      },
      "source": "%%sql\nINSERT INTO neighborhoods (id, name, population, shape, centroid) VALUES\n(1, \"Toronto\", 2794356,\n    \"POLYGON((-79.6393 43.6777, -79.1152 43.6777, -79.1152 43.8554, -79.6393 43.8554, -79.6393 43.6777))\",\n    \"POINT(-79.3832 43.6532)\"\n),\n(2, \"Vancouver\", 662248,\n    \"POLYGON((-123.2247 49.1985, -123.0234 49.1985, -123.0234 49.3169, -123.2247 49.3169, -123.2247 49.1985))\",\n    \"POINT(-123.1216 49.2827)\"\n),\n(3, \"Montreal\", 1762949,\n    \"POLYGON((-73.9354 45.3991, -73.4757 45.3991, -73.4757 45.7044, -73.9354 45.7044, -73.9354 45.3991))\",\n    \"POINT(-73.5673 45.5017)\"\n),\n(4, \"Calgary\", 1306784,\n    \"POLYGON((-114.3160 50.8420, -113.8599 50.8420, -113.8599 51.2124, -114.3160 51.2124, -114.3160 50.8420))\",\n    \"POINT(-114.0719 51.0447)\"\n),\n(5, \"Ottawa\", 1017449,\n    \"POLYGON((-75.9274 45.2502, -75.3537 45.2502, -75.3537 45.5489, -75.9274 45.5489, -75.9274 45.2502))\",\n    \"POINT(-75.6972 45.4215)\"\n);",
      "outputs": [],
      "execution_count": 29
    },
    {
      "id": "1f45c65f",
      "cell_type": "markdown",
      "metadata": {
        "execution": {}
      },
      "source": "## Add a geospatial column to the customers table",
      "attachments": {}
    },
    {
      "id": "e7591e5d",
      "cell_type": "code",
      "metadata": {
        "execution": {},
        "language": "python"
      },
      "source": "%%sql\nALTER TABLE customers ADD COLUMN location GEOGRAPHYPOINT;",
      "outputs": [],
      "execution_count": 30
    },
    {
      "id": "10a85572",
      "cell_type": "markdown",
      "metadata": {
        "execution": {}
      },
      "source": "## Update customers table with location data",
      "attachments": {}
    },
    {
      "id": "b699b639",
      "cell_type": "code",
      "metadata": {
        "execution": {},
        "language": "python"
      },
      "source": "%%sql\nUPDATE customers SET location = \"POINT(-79.3832 43.6532)\" WHERE customer_id = 1;\nUPDATE customers SET location = \"POINT(-123.1216 49.2827)\" WHERE customer_id = 2;\nUPDATE customers SET location = \"POINT(-73.5673 45.5017)\" WHERE customer_id = 3;\nUPDATE customers SET location = \"POINT(-114.0719 51.0447)\" WHERE customer_id = 4;\nUPDATE customers SET location = \"POINT(-75.6972 45.4215)\" WHERE customer_id = 5;\nUPDATE customers SET location = \"POINT(-79.3832 43.6532)\" WHERE customer_id = 6;\nUPDATE customers SET location = \"POINT(-123.1216 49.2827)\" WHERE customer_id = 7;",
      "outputs": [],
      "execution_count": 31
    },
    {
      "id": "5ebb2fb2",
      "cell_type": "markdown",
      "metadata": {
        "execution": {}
      },
      "source": "## Join the neighborhoods table to itself and measure distances between neighborhoods",
      "attachments": {}
    },
    {
      "id": "68244e5c",
      "cell_type": "code",
      "metadata": {
        "execution": {},
        "language": "python"
      },
      "source": "%%sql\nSELECT\n    b.name AS town,\n    ROUND(GEOGRAPHY_DISTANCE(a.centroid, b.centroid), 0) AS distance_from_center,\n    ROUND(GEOGRAPHY_DISTANCE(a.shape, b.shape), 0) AS distance_from_border\nFROM\n    neighborhoods a, neighborhoods b\nWHERE\n    a.name = \"Vancouver\"\nORDER BY\n    2;",
      "outputs": [],
      "execution_count": 32
    },
    {
      "id": "308aa8ba",
      "cell_type": "markdown",
      "metadata": {
        "execution": {}
      },
      "source": "## Find out where you are",
      "attachments": {}
    },
    {
      "id": "26fb44d6",
      "cell_type": "code",
      "metadata": {
        "execution": {},
        "language": "python"
      },
      "source": "%%sql\nSELECT\n    name\nFROM\n    neighborhoods\nWHERE\n    GEOGRAPHY_INTERSECTS(\"POINT(-79.3770 43.7500)\", shape);",
      "outputs": [],
      "execution_count": 33
    },
    {
      "id": "f635b459",
      "cell_type": "markdown",
      "metadata": {
        "execution": {}
      },
      "source": "## Find customers within \"Vancouver\"",
      "attachments": {}
    },
    {
      "id": "a269a7e8",
      "cell_type": "code",
      "metadata": {
        "execution": {},
        "language": "python"
      },
      "source": "%%sql\nSELECT\n    c.customer_id, c.customer_name\nFROM\n    customers c, neighborhoods n\nWHERE\n    n.name = \"Vancouver\" AND GEOGRAPHY_CONTAINS(n.shape, c.location);",
      "outputs": [],
      "execution_count": 34
    },
    {
      "id": "4e0fc856",
      "cell_type": "markdown",
      "metadata": {
        "execution": {}
      },
      "source": "# Add Time Series\n\n## Count orders by day",
      "attachments": {}
    },
    {
      "id": "58ca7bc8",
      "cell_type": "code",
      "metadata": {
        "execution": {},
        "language": "python"
      },
      "source": "%%sql\nSELECT\n    DATE_FORMAT(STR_TO_DATE(additional_details::order_date, '\"%Y-%m-%d\"'), '%Y-%m-%d') AS order_date,\n    COUNT(*) AS order_count\nFROM\n    orders\nGROUP BY\n    order_date\nORDER BY\n    order_date;",
      "outputs": [],
      "execution_count": 35
    },
    {
      "id": "476290eb",
      "cell_type": "markdown",
      "metadata": {
        "execution": {}
      },
      "source": "## Sum of order amounts by month",
      "attachments": {}
    },
    {
      "id": "0e8ae35a",
      "cell_type": "code",
      "metadata": {
        "execution": {},
        "language": "python"
      },
      "source": "%%sql\nSELECT\n    DATE_FORMAT(STR_TO_DATE(additional_details::order_date, '\"%Y-%m-%d\"'), '%Y-%m') AS order_month,\n    SUM(amount) AS total_amount\nFROM\n    orders\nGROUP BY\n    order_month\nORDER BY\n    order_month;",
      "outputs": [],
      "execution_count": 36
    },
    {
      "id": "912c37d3",
      "cell_type": "markdown",
      "metadata": {
        "execution": {}
      },
      "source": "## Orders count by customer over time",
      "attachments": {}
    },
    {
      "id": "7e1a3e06",
      "cell_type": "code",
      "metadata": {
        "execution": {},
        "language": "python"
      },
      "source": "%%sql\nSELECT\n    customer_id,\n    DATE_FORMAT(STR_TO_DATE(additional_details::order_date, '\"%Y-%m-%d\"'), '%Y-%m-%d') AS order_date,\n    COUNT(*) AS order_count\nFROM\n    orders\nGROUP BY\n    customer_id, order_date\nORDER BY\n    customer_id, order_date;",
      "outputs": [],
      "execution_count": 37
    },
    {
      "id": "7b9b0c36",
      "cell_type": "markdown",
      "metadata": {
        "execution": {}
      },
      "source": "# Bonus\n\n## Create a map from geospatial city data",
      "attachments": {}
    },
    {
      "id": "8302f8a7",
      "cell_type": "code",
      "metadata": {
        "execution": {},
        "language": "python"
      },
      "source": "!pip install folium shapely --quiet",
      "outputs": [],
      "execution_count": 38
    },
    {
      "id": "b91965f0",
      "cell_type": "markdown",
      "metadata": {
        "execution": {}
      },
      "source": "\u003cdiv class=\"alert alert-block alert-warning\"\u003e\n    \u003cb class=\"fa fa-solid fa-exclamation-circle\"\u003e\u003c/b\u003e\n    \u003cdiv\u003e\n        \u003cp\u003e\u003cb\u003eAction Required\u003c/b\u003e\u003c/p\u003e\n        \u003cp\u003eSelect the database from the drop-down menu at the top of this notebook. It updates the \u003cb\u003econnection_url\u003c/b\u003e which is used by SQLAlchemy to make connections to the selected database.\u003c/p\u003e\n    \u003c/div\u003e\n\u003c/div\u003e",
      "attachments": {}
    },
    {
      "id": "ab06690b",
      "cell_type": "code",
      "metadata": {
        "execution": {},
        "language": "python"
      },
      "source": "from sqlalchemy import *\n\ndb_connection = create_engine(connection_url)",
      "outputs": [],
      "execution_count": 39
    },
    {
      "id": "53defa1f",
      "cell_type": "markdown",
      "metadata": {
        "execution": {}
      },
      "source": "## Get city data from neighborhoods table",
      "attachments": {}
    },
    {
      "id": "09d1e58a",
      "cell_type": "code",
      "metadata": {
        "execution": {},
        "language": "python"
      },
      "source": "import pandas as pd\n\nquery = \"\"\"\n    SELECT\n        id,\n        name,\n        population,\n        shape :\u003e TEXT AS polygon,\n        centroid :\u003e TEXT AS point\n    FROM\n        neighborhoods\n\"\"\"\n\ndf = pd.read_sql(\n    query,\n    db_connection\n)",
      "outputs": [],
      "execution_count": 40
    },
    {
      "id": "e62eaf70",
      "cell_type": "markdown",
      "metadata": {
        "execution": {}
      },
      "source": "## Convert the data to geospatial format for Python",
      "attachments": {}
    },
    {
      "id": "d740de3b",
      "cell_type": "code",
      "metadata": {
        "execution": {},
        "language": "python"
      },
      "source": "from shapely import wkt\n\ndf[\"polygon\"] = df[\"polygon\"].apply(wkt.loads)\ndf[\"point\"] = df[\"point\"].apply(wkt.loads)",
      "outputs": [],
      "execution_count": 41
    },
    {
      "id": "82ab7026",
      "cell_type": "markdown",
      "metadata": {
        "execution": {}
      },
      "source": "## Plot the cities on a map",
      "attachments": {}
    },
    {
      "id": "525a69fe",
      "cell_type": "code",
      "metadata": {
        "execution": {},
        "language": "python"
      },
      "source": "import folium\n\nm = folium.Map(\n    location = [56.1304, -106.3468],\n    zoom_start = 4\n)\n\nfor idx, row in df.iterrows():\n    folium.Polygon(\n        locations = [(point[1], point[0]) for point in row[\"polygon\"].exterior.coords],\n        color = \"blue\",\n        weight = 2,\n        fill = True,\n        fill_color = \"blue\",\n        fill_opacity = 0.1\n    ).add_to(m)\n\n    folium.Marker(\n        location = (row[\"point\"].y, row[\"point\"].x),\n        popup = row[\"name\"]\n    ).add_to(m)\n\nhtml_content = m._repr_html_()",
      "outputs": [],
      "execution_count": 42
    },
    {
      "id": "206af23f",
      "cell_type": "markdown",
      "metadata": {
        "execution": {}
      },
      "source": "## Save the map to stage",
      "attachments": {}
    },
    {
      "id": "516a6fc3",
      "cell_type": "markdown",
      "metadata": {
        "execution": {}
      },
      "source": "\u003cdiv class=\"alert alert-block alert-warning\"\u003e\n    \u003cb class=\"fa fa-solid fa-exclamation-circle\"\u003e\u003c/b\u003e\n    \u003cdiv\u003e\n        \u003cp\u003e\u003cb\u003eStage Support\u003c/b\u003e\u003c/p\u003e\n        \u003cp\u003eThe following code will only work on the \u003cb\u003eStandard Tier\u003c/b\u003e at this time.\u003c/p\u003e\n    \u003c/div\u003e\n\u003c/div\u003e",
      "attachments": {}
    },
    {
      "id": "c2c231f7",
      "cell_type": "code",
      "metadata": {
        "execution": {},
        "language": "python"
      },
      "source": "from singlestoredb import notebook as nb\n\nif not shared_tier_check or shared_tier_check[0][1] == \"OFF\":\n    with nb.stage.open(\"map.html\", \"w\") as st:\n        st.write(html_content)",
      "outputs": [],
      "execution_count": 43
    },
    {
      "id": "ef48d5e3",
      "cell_type": "markdown",
      "metadata": {
        "execution": {}
      },
      "source": "# Cleanup",
      "attachments": {}
    },
    {
      "id": "6fe6d5be",
      "cell_type": "code",
      "metadata": {
        "execution": {},
        "language": "python"
      },
      "source": "%%sql\nDROP TABLE IF EXISTS customers;\nDROP TABLE IF EXISTS orders;\nDROP TABLE IF EXISTS neighborhoods;",
      "outputs": [],
      "execution_count": 44
    },
    {
      "id": "8631a02d",
      "cell_type": "code",
      "metadata": {
        "execution": {},
        "language": "python"
      },
      "source": "shared_tier_check = %sql SHOW VARIABLES LIKE \"is_shared_tier\"\nif not shared_tier_check or shared_tier_check[0][1] == \"OFF\":\n    %sql DROP DATABASE IF EXISTS multi_model;",
      "outputs": [],
      "execution_count": 45
    },
    {
      "id": "57215608",
      "cell_type": "markdown",
      "metadata": {
        "execution": {}
      },
      "source": "# Conclusions\n\nIn this Jupyter notebook, we explored the robust multi-model capabilities of SingleStore, demonstrating how to efficiently manage and query a wide range of data types within a unified database platform. Beginning with a simple \"Getting Started\" guide, we progressively delved into various standard SQL queries and extended our exploration to include more advanced data models such as vectors for machine learning, full-text search for unstructured data, JSON for hierarchical data, geospatial data for location-based queries, and time series data for temporal analysis. Through these practical examples, users can appreciate SingleStore's versatility and powerful functionality, gaining the skills to effectively harness its multi-model capabilities for diverse applications.",
      "attachments": {}
    },
    {
      "id": "abaf291a",
      "cell_type": "markdown",
      "metadata": {
        "execution": {}
      },
      "source": "\u003cdiv id=\"singlestore-footer\" style=\"background-color: rgba(194, 193, 199, 0.25); height:2px; margin-bottom:10px\"\u003e\u003c/div\u003e\n\u003cdiv\u003e\u003cimg src=\"https://raw.githubusercontent.com/singlestore-labs/spaces-notebooks/master/common/images/singlestore-logo-grey.png\" style=\"padding: 0px; margin: 0px; height: 24px\"/\u003e\u003c/div\u003e",
      "attachments": {}
    }
  ],
  "metadata": {
    "kernelspec": {
      "display_name": "Python 3 (ipykernel)",
      "language": "python",
      "name": "python3"
    },
    "language_info": {
      "codemirror_mode": {
        "name": "ipython",
        "version": 3
      },
      "file_extension": ".py",
      "mimeType": "text/x-python",
      "name": "python",
      "nbconvert_exporter": "python",
      "pygments_lexer": "ipython3",
      "version": "3.11.9"
    },
    "jupyterlab": {
      "notebooks": {
        "version_major": 6,
        "version_minor": 4
      }
    },
    "singlestore_connection": {
      "connectionID": "",
      "defaultDatabase": ""
    },
    "singlestore_cell_default_language": "python",
    "singlestore_row_limit": 300
  },
  "nbformat": 4,
  "nbformat_minor": 5
}