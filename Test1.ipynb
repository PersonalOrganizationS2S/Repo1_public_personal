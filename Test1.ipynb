{
  "cells": [
    {
      "id": "90a27dd1-d63c-4a7f-bba5-b6e5b6a820b0",
      "cell_type": "code",
      "metadata": {
        "execution": {
          "iopub.execute_input": "2025-07-25T09:37:22.430253Z",
          "iopub.status.busy": "2025-07-25T09:37:22.429941Z",
          "iopub.status.idle": "2025-07-25T09:37:34.078669Z",
          "shell.execute_reply": "2025-07-25T09:37:34.078138Z",
          "shell.execute_reply.started": "2025-07-25T09:37:22.430229Z"
        },
        "language": "sql",
        "trusted": true
      },
      "source": "create database test100;",
      "outputs": [],
      "execution_count": 5
    },
    {
      "id": "ae7c1f77-4d03-493c-bfa1-1f421219b1b1",
      "cell_type": "code",
      "metadata": {
        "language": "sql",
        "trusted": true
      },
      "source": "",
      "outputs": [],
      "execution_count": null
    }
  ],
  "metadata": {
    "kernelspec": {
      "display_name": "Python 3 (ipykernel)",
      "language": "python",
      "name": "python3"
    },
    "language_info": {
      "codemirror_mode": {
        "name": "ipython",
        "version": 3
      },
      "file_extension": ".py",
      "mimeType": "text/x-python",
      "name": "python",
      "nbconvert_exporter": "python",
      "pygments_lexer": "ipython3",
      "version": "3.11.9"
    },
    "jupyterlab": {
      "notebooks": {
        "version_major": 6,
        "version_minor": 4
      }
    },
    "singlestore_connection": {
      "connectionID": "",
      "defaultDatabase": ""
    },
    "singlestore_cell_default_language": "sql",
    "singlestore_row_limit": 300
  },
  "nbformat": 4,
  "nbformat_minor": 5
}