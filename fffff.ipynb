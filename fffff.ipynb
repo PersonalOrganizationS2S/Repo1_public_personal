{
  "cells": [
    {
      "id": "c66047c2-608b-4e42-9033-db77229efdc1",
      "cell_type": "code",
      "metadata": {
        "language": "python",
        "trusted": true
      },
      "source": "",
      "outputs": [],
      "execution_count": null
    }
  ],
  "metadata": {
    "kernelspec": {
      "display_name": "Python 3 (ipykernel)",
      "language": "python",
      "name": "python3"
    },
    "language_info": {
      "codemirror_mode": {
        "name": "ipython",
        "version": 3
      },
      "file_extension": ".py",
      "mimeType": "text/x-python",
      "name": "python",
      "nbconvert_exporter": "",
      "pygments_lexer": "ipython3",
      "version": "3.7.10"
    },
    "jupyterlab": {
      "notebooks": {
        "version_major": 6,
        "version_minor": 4
      }
    },
    "singlestore_connection": {
      "connectionID": "",
      "defaultDatabase": ""
    },
    "singlestore_cell_default_language": "python"
  },
  "nbformat": 4,
  "nbformat_minor": 5
}